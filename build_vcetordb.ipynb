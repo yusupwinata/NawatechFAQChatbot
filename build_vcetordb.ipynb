{
 "cells": [
  {
   "cell_type": "code",
   "execution_count": 1,
   "id": "a0e795c2-2fdf-4bdb-957b-41b19c9fdbbf",
   "metadata": {},
   "outputs": [],
   "source": [
    "# Import required packages\n",
    "import os\n",
    "import shutil\n",
    "import pandas as pd\n",
    "from dotenv import load_dotenv\n",
    "\n",
    "# Chunking documents\n",
    "from langchain.document_loaders import DirectoryLoader, TextLoader\n",
    "from langchain.text_splitter import CharacterTextSplitter\n",
    "\n",
    "# # Building vector db using FAISS\n",
    "from langchain.schema import Document\n",
    "from langchain_openai import OpenAIEmbeddings, ChatOpenAI\n",
    "from huggingface_hub import login\n",
    "from langchain_huggingface import HuggingFaceEmbeddings, ChatHuggingFace\n",
    "from langchain.vectorstores import FAISS"
   ]
  },
  {
   "cell_type": "markdown",
   "id": "617075da-63e8-4822-a34c-2ab64b786cd9",
   "metadata": {},
   "source": [
    "# Prepare the Data"
   ]
  },
  {
   "cell_type": "code",
   "execution_count": 4,
   "id": "fb425f6e-9b61-4d80-84f1-255d9ec9cd7f",
   "metadata": {},
   "outputs": [],
   "source": [
    "# Paths\n",
    "ABSOLUTE_PATH = os.path.abspath(os.getcwd())\n",
    "DATA_PATH = os.path.join(ABSOLUTE_PATH, \"data\")\n",
    "DB_PATH = os.path.join(ABSOLUTE_PATH, \"vector_dbs\", \"openai\")\n",
    "DB_HF_PATH = os.path.join(ABSOLUTE_PATH, \"vector_dbs\", \"hugging_face\")"
   ]
  },
  {
   "cell_type": "code",
   "execution_count": 28,
   "id": "235b6256-0b19-469e-ba30-8251b246a465",
   "metadata": {},
   "outputs": [
    {
     "data": {
      "text/plain": [
       "[Document(metadata={'source': 'doc_0'}, page_content='Apa itu nawatech? Nawatech, perusahaan pengembangan perangkat lunak yang siap membantu mengembangkan bisnis Anda dengan solusi teknologi.'),\n",
       " Document(metadata={'source': 'doc_1'}, page_content='Siapa CEO Nawatech? CEO atau direktur dari perusahaan nawatech adalah arfan arlanda.'),\n",
       " Document(metadata={'source': 'doc_2'}, page_content='Dimana saya bisa mengkontak Nawatech? Untuk mengkontak nawatech anda bisa klik link dibawah ini https://www.nawatech.co/contact-us'),\n",
       " Document(metadata={'source': 'doc_3'}, page_content='Layanan apa saja yang diberikan nawatech? Layanan Terkelola, Layanan konsulasi, Inovasi, Integrasi sistem '),\n",
       " Document(metadata={'source': 'doc_4'}, page_content='Siapa Nawatech ? Kami adalah kumpulan talenta yang bersemangat yang mengkhususkan diri dalam menciptakan solusi inovatif dan berdampak bagi bisnis.'),\n",
       " Document(metadata={'source': 'doc_5'}, page_content='Layanan Kami Layanan kami dirancang untuk membantu bisnis tumbuh menggunakan teknologi terkini dan mengoptimalkan proses mereka untuk memaksimalkan efisiensi dan profitabilitas.'),\n",
       " Document(metadata={'source': 'doc_6'}, page_content='Tahun berapa Nawatech didirikan? Nawatech didirikan pada tahun 2016.'),\n",
       " Document(metadata={'source': 'doc_7'}, page_content='Produk apa yang dikembangkan Nawatech yang diakuisisi oleh Sampoerna Telecom (Net1)? Produk OOH digital yang dikembangkan Nawatech diakuisisi oleh Sampoerna Telecom (Net1).'),\n",
       " Document(metadata={'source': 'doc_8'}, page_content='Penghargaan apa yang diterima Nawatech pada tahun 2020? Nawatech menerima Microsoft Partner of the Year Award 2020 untuk Partner for Social Impact.'),\n",
       " Document(metadata={'source': 'doc_9'}, page_content='Perusahaan mana yang menjalin kemitraan jangka panjang dengan Nawatech pada tahun 2018-2019? Nawatech menjalin kemitraan jangka panjang dengan Astra Group pada tahun 2018-2019.'),\n",
       " Document(metadata={'source': 'doc_10'}, page_content='Spesialisasi apa yang dicapai Nawatech pada tahun 2024 terkait dengan Kubernetes di Azure? Pada tahun 2024, Nawatech menjadi perusahaan lokal pertama yang memenuhi syarat sebagai Spesialisasi Lanjutan dalam Kubernetes di Azure untuk Data & AI dan Inovasi Digital & Aplikasi.')]"
      ]
     },
     "execution_count": 28,
     "metadata": {},
     "output_type": "execute_result"
    }
   ],
   "source": [
    "# Load data\n",
    "file_path = os.path.join(DATA_PATH, 'FAQ_Nawa.xlsx')\n",
    "faq_df = pd.read_excel(file_path, index_col=None)\n",
    "\n",
    "raw_texts = []\n",
    "\n",
    "for _, faq in faq_df.iterrows():\n",
    "    document = str(faq['Question']) + \" \" + str(faq['Answer'])\n",
    "    raw_texts.append(document)\n",
    "\n",
    "# Convert raw text to Document objects\n",
    "all_documents = [Document(page_content=text, metadata={\"source\": f\"doc_{i}\"}) for i, text in enumerate(raw_texts)]\n",
    "all_documents"
   ]
  },
  {
   "cell_type": "markdown",
   "id": "a6f7ff47-6e70-4971-a1bb-6aa6e1160118",
   "metadata": {},
   "source": [
    "# Building Vector Database using OpenAI"
   ]
  },
  {
   "cell_type": "code",
   "execution_count": 29,
   "id": "e42f841a-3eec-4974-9868-2e94239744b6",
   "metadata": {},
   "outputs": [
    {
     "name": "stdout",
     "output_type": "stream",
     "text": [
      "There are 11 vectors with 1,536 dimensions in this FAISS vector store\n"
     ]
    }
   ],
   "source": [
    "# Load OpenAI API Key\n",
    "load_dotenv(override=True)\n",
    "OPENAI_API_KEY = os.getenv(\"OPENAI_API_KEY\", \"type-your-api-key-here\")\n",
    "\n",
    "db_name = DB_PATH\n",
    "\n",
    "# Create FAISS vector store using OpenAI API\n",
    "openai_embeddings = OpenAIEmbeddings()\n",
    "vectorstore = FAISS.from_documents(\n",
    "    documents=all_documents,\n",
    "    embedding=openai_embeddings\n",
    ")\n",
    "\n",
    "# Save the vectorstore manually\n",
    "vectorstore.save_local(DB_PATH)\n",
    "\n",
    "# View the vectorstore\n",
    "total_vectors = vectorstore.index.ntotal\n",
    "dimensions = vectorstore.index.d\n",
    "print(f\"There are {total_vectors} vectors with {dimensions:,} dimensions in this FAISS vector store\")"
   ]
  },
  {
   "cell_type": "markdown",
   "id": "0fc8603f-aca2-4510-8d06-f860efabbac5",
   "metadata": {},
   "source": [
    "# Building Vector Database using OpenAI"
   ]
  },
  {
   "cell_type": "code",
   "execution_count": 30,
   "id": "ca58c250-9800-486e-914d-c51d196a7cba",
   "metadata": {},
   "outputs": [
    {
     "name": "stdout",
     "output_type": "stream",
     "text": [
      "There are 11 vectors with 384 dimensions in this HF FAISS vector store\n"
     ]
    }
   ],
   "source": [
    "# Load and login to hugging face\n",
    "HF_TOKEN = os.getenv(\"HUGGINGFACE_TOKEN\", \"type-your-token-here\")\n",
    "login(HF_TOKEN)\n",
    "\n",
    "db_name = DB_HF_PATH\n",
    "\n",
    "# Create FAISS vector store using Hugging Face model\n",
    "hf_embeddings = HuggingFaceEmbeddings(model=\"sentence-transformers/all-MiniLM-L6-v2\")\n",
    "hf_vectorstore = FAISS.from_documents(\n",
    "    documents=all_documents,\n",
    "    embedding=hf_embeddings\n",
    ")\n",
    "\n",
    "# Save the vector to local storage\n",
    "hf_vectorstore.save_local(DB_HF_PATH)\n",
    "\n",
    "# View the vectorstore\n",
    "total_vectors = hf_vectorstore.index.ntotal\n",
    "dimensions = hf_vectorstore.index.d\n",
    "print(f\"There are {total_vectors} vectors with {dimensions:,} dimensions in this HF FAISS vector store\")"
   ]
  },
  {
   "cell_type": "code",
   "execution_count": null,
   "id": "5bab5c00-cf74-460e-bb51-53014c7c8565",
   "metadata": {},
   "outputs": [],
   "source": []
  }
 ],
 "metadata": {
  "kernelspec": {
   "display_name": "hugface",
   "language": "python",
   "name": "hugface"
  },
  "language_info": {
   "codemirror_mode": {
    "name": "ipython",
    "version": 3
   },
   "file_extension": ".py",
   "mimetype": "text/x-python",
   "name": "python",
   "nbconvert_exporter": "python",
   "pygments_lexer": "ipython3",
   "version": "3.11.11"
  }
 },
 "nbformat": 4,
 "nbformat_minor": 5
}
